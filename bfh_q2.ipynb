{
  "nbformat": 4,
  "nbformat_minor": 0,
  "metadata": {
    "colab": {
      "provenance": [],
      "gpuType": "T4",
      "mount_file_id": "1TSMU76IptInGBkgC7vqQfEZDF8XRzbav",
      "authorship_tag": "ABX9TyO0R2zYRxKlUC5XtsHP9bjT",
      "include_colab_link": true
    },
    "kernelspec": {
      "name": "python3",
      "display_name": "Python 3"
    },
    "language_info": {
      "name": "python"
    },
    "accelerator": "GPU"
  },
  "cells": [
    {
      "cell_type": "markdown",
      "metadata": {
        "id": "view-in-github",
        "colab_type": "text"
      },
      "source": [
        "<a href=\"https://colab.research.google.com/github/Shrinjita/Bajaj-Finserv-Q-/blob/main/bfh_q2.ipynb\" target=\"_parent\"><img src=\"https://colab.research.google.com/assets/colab-badge.svg\" alt=\"Open In Colab\"/></a>"
      ]
    },
    {
      "cell_type": "code",
      "source": [
        "import cv2\n",
        "import pytesseract\n",
        "import os\n",
        "import numpy as np\n",
        "def preprocess_image(image_path):\n",
        "    img = cv2.imread(image_path)\n",
        "    if img is None:\n",
        "        raise FileNotFoundError(f\"Image not found at {image_path}\")\n",
        "    gray_img = cv2.cvtColor(img, cv2.COLOR_BGR2GRAY)\n",
        "    _, threshold_img = cv2.threshold(gray_img, 150, 255, cv2.THRESH_BINARY)\n",
        "    denoised_img = cv2.GaussianBlur(threshold_img, (5, 5), 0)\n",
        "    dpi_res = (int(img.shape[1] * 300 / 72), int(img.shape[0] * 300 / 72))\n",
        "    resized_img = cv2.resize(denoised_img, dpi_res)\n",
        "    return resized_img\n",
        "def extract_text_with_ocr(image_path):\n",
        "    preprocessed_image = preprocess_image(image_path)\n",
        "    extracted_text = pytesseract.image_to_string(preprocessed_image)\n",
        "    return extracted_text\n",
        "def process_images_in_folder(folder_path, output_file):\n",
        "    image_files = [f for f in os.listdir(folder_path) if f.lower().endswith(('.png', '.jpg', '.jpeg'))]\n",
        "    with open(output_file, 'w') as file:\n",
        "        for image_file in image_files:\n",
        "            image_path = os.path.join(folder_path, image_file)\n",
        "            try:\n",
        "                extracted_text = extract_text_with_ocr(image_path)\n",
        "                file.write(f\"Results for {image_file}:\\n\")\n",
        "                file.write(extracted_text)\n",
        "                file.write(\"\\n\" + \"=\" * 50 + \"\\n\\n\")\n",
        "            except Exception as e:\n",
        "                file.write(f\"Error processing {image_file}: {e}\\n\")\n",
        "                file.write(\"\\n\" + \"=\" * 50 + \"\\n\\n\")\n",
        "def main():\n",
        "    folder_path = '/content/drive/MyDrive/Colab Notebooks/demo'\n",
        "    output_file = '/content/drive/MyDrive/Colab Notebooks/demo2/output.txt'\n",
        "    process_images_in_folder(folder_path, output_file)\n",
        "if __name__ == '__main__':\n",
        "    main()"
      ],
      "metadata": {
        "id": "xl5F1_K4FzKb"
      },
      "execution_count": 33,
      "outputs": []
    },
    {
      "cell_type": "code",
      "source": [
        "input = '/content/drive/MyDrive/Colab Notebooks/demo2/output.txt'"
      ],
      "metadata": {
        "id": "r9AT0Sd6ODJm"
      },
      "execution_count": 38,
      "outputs": []
    },
    {
      "cell_type": "code",
      "source": [
        "with open(input, 'r', encoding='utf-8') as file:\n",
        "  text = file.read()"
      ],
      "metadata": {
        "id": "QNeBMLjkOPGu"
      },
      "execution_count": 39,
      "outputs": []
    },
    {
      "cell_type": "code",
      "source": [
        "keywords = 'Ref. Doctor'"
      ],
      "metadata": {
        "id": "0FF6tTJoPdZE"
      },
      "execution_count": 46,
      "outputs": []
    },
    {
      "cell_type": "code",
      "source": [
        "output_json_file = '/content/drive/MyDrive/Colab Notebooks/demo2/output.json'"
      ],
      "metadata": {
        "id": "UVdJp3UxQ1gK"
      },
      "execution_count": 51,
      "outputs": []
    },
    {
      "cell_type": "code",
      "source": [
        "import json"
      ],
      "metadata": {
        "id": "c1gn_1FlSLjo"
      },
      "execution_count": 59,
      "outputs": []
    },
    {
      "cell_type": "code",
      "source": [
        "if keywords in text:\n",
        "  chunks = text.split(\"\\n\")\n",
        "  chunks = [chunk.strip() for chunk in chunks if chunk.strip()]\n",
        "  for chunk in chunks:\n",
        "    if keywords in chunk:\n",
        "      print(chunk)"
      ],
      "metadata": {
        "colab": {
          "base_uri": "https://localhost:8080/"
        },
        "id": "uWly7QPDPTjk",
        "outputId": "48e35665-4653-4170-8535-663deecef46c"
      },
      "execution_count": 69,
      "outputs": [
        {
          "output_type": "stream",
          "name": "stdout",
          "text": [
            "Ref. Doctor : Or. RUPA BANERSEE\n",
            "Ref. Doctor : Or. RUPA BANERJEE\n",
            "Ref. Doctor ¢ Dr. Siddhant Mathu Mobile No pT\n",
            "Ref. Doctor : Dr. Siddhant Matour Mobile No pe\n",
            "Ref. Doctor : Dr. Siddhant Mathur Mobile No po\n"
          ]
        }
      ]
    },
    {
      "cell_type": "code",
      "source": [
        "import json\n",
        "\n",
        "input_file = '/content/drive/MyDrive/Colab Notebooks/demo2/output.txt'\n",
        "output_json_file = '/content/drive/MyDrive/Colab Notebooks/demo2/output.json'\n",
        "\n",
        "try:\n",
        "    with open(input_file, 'r', encoding='utf-8') as file:\n",
        "        text = file.read()\n",
        "\n",
        "    keywords = [\n",
        "        \"PROTHROMBIN TIME\", \"INR\", \"APTT\", \"URIC ACID\", \"SERUM CREATININE\",\n",
        "        \"RANDOM BLOOD GLUCOSE\", \"RBS\", \"BILIRUBIN TOTAL\", \"CONJUGATED\", \"UNCONJUGATED\",\n",
        "        \"SGOT\", \"SGPT\", \"ALKALINE PHOSPHATASE\", \"TOTAL PROTEIN\", \"ALBUMIN\",\n",
        "        \"GLOBULIN\", \"A/G RATIO\", \"GAMMAT-GT\"\n",
        "    ]\n",
        "    data = {}\n",
        "    chunks = text.split(\"\\n\")\n",
        "    chunks = [chunk.strip() for chunk in chunks if chunk.strip()]\n",
        "    for keyword in keywords:\n",
        "      if keywords in chunk:\n",
        "        data[f\"test_name\"] = chunk\n",
        "\n",
        "        with open(output_json_file, 'w', encoding='utf-8') as json_file:\n",
        "            json.dump(data, json_file, indent=4)\n",
        "        print(f\"JSON data written to {output_json_file}\")\n",
        "    else:\n",
        "        print(f\"Keyword '{keywords}' not found in the input text file.\")\n",
        "\n",
        "except FileNotFoundError:\n",
        "    print(f\"Error: Input file '{input_file}' not found.\")\n",
        "except Exception as e:\n",
        "    print(f\"An error occurred: {e}\")\n"
      ],
      "metadata": {
        "collapsed": true,
        "colab": {
          "base_uri": "https://localhost:8080/"
        },
        "id": "tEGCJaM9Ur2N",
        "outputId": "7bd51d83-7dac-4eac-9bb3-6a8f584bed3b"
      },
      "execution_count": 79,
      "outputs": [
        {
          "output_type": "stream",
          "name": "stdout",
          "text": [
            "An error occurred: 'in <string>' requires string as left operand, not list\n"
          ]
        }
      ]
    },
    {
      "cell_type": "code",
      "source": [
        "import re\n",
        "import json\n",
        "from typing import List, Dict, Any\n",
        "\n",
        "def extract_test_results(text: str) -> List[Dict[str, Any]]:\n",
        "    results = []\n",
        "    test_names = [\n",
        "        \"PROTHROMBIN TIME\", \"INR\", \"APTT\", \"URIC ACID\", \"SERUM CREATININE\",\n",
        "        \"RANDOM BLOOD GLUCOSE\", \"RBS\", \"BILIRUBIN TOTAL\", \"CONJUGATED\", \"UNCONJUGATED\",\n",
        "        \"SGOT\", \"SGPT\", \"ALKALINE PHOSPHATASE\", \"TOTAL PROTEIN\", \"ALBUMIN\",\n",
        "        \"GLOBULIN\", \"A/G RATIO\", \"GAMMAT-GT\"\n",
        "    ]\n",
        "    lines = text.split('\\n')\n",
        "\n",
        "    for i, line in enumerate(lines):\n",
        "        line = line.strip()\n",
        "        if not line:\n",
        "            continue\n",
        "\n",
        "        for test_name in test_names:\n",
        "            if test_name in line:\n",
        "\n",
        "                patterns = [\n",
        "\n",
        "                    rf'{test_name}\\s+([\\d\\.]+)\\s*([HL]?)\\s*([a-zA-Z/]+)\\s+([\\d\\.\\s\\-<>]+)',\n",
        "\n",
        "                    rf'([A-Z][A-Z\\s\\(\\)\\-\\.\\/]*{test_name}[A-Z\\s\\(\\)\\-\\.\\/]*)\\s+([\\d\\.]+)\\s*([HL]?)\\s*([a-zA-Z/]+)\\s+([\\d\\.\\s\\-<>]+)',\n",
        "\n",
        "\n",
        "                    rf'{test_name}\\s+([\\d\\.]+)\\s*([HL]?)\\s*(?:Normal)?\\s*(<[\\d\\.]+)',\n",
        "                ]\n",
        "\n",
        "                match = None\n",
        "                for pattern in patterns:\n",
        "                    match = re.search(pattern, line)\n",
        "                    if match:\n",
        "                        break\n",
        "\n",
        "                if match:\n",
        "                    process_test_match(match, test_name, results)\n",
        "\n",
        "\n",
        "    direct_pattern = r'([A-Z][A-Z\\s\\(\\)\\-\\.\\/]*)\\s+([\\d\\.]+)\\s*([HL]?)\\s*([a-zA-Z/]*)\\s+([\\d\\.\\s\\-<>]+)'\n",
        "    for line in lines:\n",
        "        if any(keyword in line for keyword in [\"BILIRUBIN\", \"SGOT\", \"SGPT\", \"CREATININE\", \"GLUCOSE\", \"PROTEIN\", \"ALBUMIN\", \"INR\"]):\n",
        "            match = re.search(direct_pattern, line)\n",
        "            if match:\n",
        "                extracted_name = match.group(1).strip()\n",
        "                process_test_match(match, extracted_name, results)\n",
        "\n",
        "\n",
        "    special_case_extraction(text, results)\n",
        "\n",
        "\n",
        "    return standardize_results(results)"
      ],
      "metadata": {
        "id": "lXYbL7bTXMjz"
      },
      "execution_count": 76,
      "outputs": []
    },
    {
      "cell_type": "code",
      "source": [
        "def process_test_match(match, test_name: str, results: List[Dict[str, Any]]) -> None:\n",
        "    \"\"\"Process a regex match for a test and add to results\"\"\"\n",
        "    try:\n",
        "        if len(match.groups()) >= 2:\n",
        "            if test_name in match.group(0):\n",
        "\n",
        "                extracted_name = test_name\n",
        "                value_str = match.group(1)\n",
        "                flag = match.group(2) if len(match.groups()) > 1 else \"\"\n",
        "                unit = match.group(3) if len(match.groups()) > 2 else \"\"\n",
        "                range_str = match.group(4) if len(match.groups()) > 3 else \"\"\n",
        "            else:\n",
        "\n",
        "                extracted_name = match.group(1).strip()\n",
        "                value_str = match.group(2)\n",
        "                flag = match.group(3) if len(match.groups()) > 2 else \"\"\n",
        "                unit = match.group(4) if len(match.groups()) > 3 else \"\"\n",
        "                range_str = match.group(5) if len(match.groups()) > 4 else \"\"\n",
        "\n",
        "\n",
        "            test_value = float(value_str.strip())\n",
        "\n",
        "\n",
        "            out_of_range = flag.strip() in ['H', 'L']\n",
        "\n",
        "\n",
        "            bio_reference_range = process_reference_range(range_str.strip())\n",
        "\n",
        "            results.append({\n",
        "                \"test_name\": extracted_name,\n",
        "                \"test_value\": test_value,\n",
        "                \"test_unit\": unit.strip(),\n",
        "                \"lab_test_out_of_range\": out_of_range,\n",
        "                \"bio_reference_range\": bio_reference_range\n",
        "            })\n",
        "    except Exception:\n",
        "\n",
        "        pass\n",
        "\n",
        "def process_reference_range(range_str: str) -> str:\n",
        "    \"\"\"Process and standardize reference range string\"\"\"\n",
        "\n",
        "    range_match = re.search(r'([\\d\\.]+)\\s*-\\s*([\\d\\.]+)', range_str)\n",
        "    if range_match:\n",
        "        return f\"{range_match.group(1)} - {range_match.group(2)}\"\n",
        "\n",
        "\n",
        "    less_than_match = re.search(r'<\\s*([\\d\\.]+)', range_str)\n",
        "    if less_than_match:\n",
        "        return f\"0 - {less_than_match.group(1)}\"\n",
        "\n",
        "    return range_str\n",
        "\n",
        "def special_case_extraction(text: str, results: List[Dict[str, Any]]) -> None:\n",
        "    \"\"\"Extract results using specialized patterns for specific tests\"\"\"\n",
        "\n",
        "    inr_pattern = r'INR\\s+([\\d\\.]+)\\s*([HL]?)\\s*Normal\\s*<([\\d\\.]+)'\n",
        "    inr_match = re.search(inr_pattern, text)\n",
        "    if inr_match and not any(r[\"test_name\"] == \"INR\" for r in results):\n",
        "        results.append({\n",
        "            \"test_name\": \"INR\",\n",
        "            \"test_value\": float(inr_match.group(1)),\n",
        "            \"test_unit\": \"\",\n",
        "            \"lab_test_out_of_range\": inr_match.group(2) in ['H', 'L'],\n",
        "            \"bio_reference_range\": f\"0 - {inr_match.group(3)}\"\n",
        "        })\n",
        "\n",
        "\n",
        "    bilirubin_patterns = [\n",
        "        r'BILIRUBIN TOTAL\\s+([\\d\\.]+)\\s*([HL]?)\\s*([a-zA-Z/]+)\\s+([\\d\\.\\s\\-]+)',\n",
        "        r'CONJUGATED[^:]*\\s+([\\d\\.]+)\\s*([HL]?)\\s*([a-zA-Z/]+)\\s+([\\d\\.\\s\\-]+)',\n",
        "        r'UNCONJUGATED[^:]*\\s+([\\d\\.]+)\\s*([HL]?)\\s*([a-zA-Z/]+)\\s+([\\d\\.\\s\\-]+)'\n",
        "    ]\n",
        "\n",
        "    for pattern in bilirubin_patterns:\n",
        "        match = re.search(pattern, text)\n",
        "        if match:\n",
        "            test_name = \"BILIRUBIN TOTAL\" if \"TOTAL\" in pattern else \"CONJUGATED\" if \"CONJUGATED\" in pattern else \"UNCONJUGATED\"\n",
        "            if not any(r[\"test_name\"] == test_name for r in results):\n",
        "                results.append({\n",
        "                    \"test_name\": test_name,\n",
        "                    \"test_value\": float(match.group(1)),\n",
        "                    \"test_unit\": match.group(3),\n",
        "                    \"lab_test_out_of_range\": match.group(2) in ['H', 'L'],\n",
        "                    \"bio_reference_range\": process_reference_range(match.group(4))\n",
        "                })\n",
        "\n",
        "\n",
        "    glucose_pattern = r'(?:RANDOM BLOOD GLUCOSE|BLOOD GLUCOSE|RBS)\\s+([\\d\\.]+)\\s*([HL]?)\\s*([a-zA-Z/]+)\\s+([\\d\\.\\s\\-]+)'\n",
        "    glucose_match = re.search(glucose_pattern, text)\n",
        "    if glucose_match and not any(r[\"test_name\"] == \"RANDOM BLOOD GLUCOSE\" for r in results):\n",
        "        results.append({\n",
        "            \"test_name\": \"RANDOM BLOOD GLUCOSE\",\n",
        "            \"test_value\": float(glucose_match.group(1)),\n",
        "            \"test_unit\": glucose_match.group(3),\n",
        "            \"lab_test_out_of_range\": glucose_match.group(2) in ['H', 'L'],\n",
        "            \"bio_reference_range\": process_reference_range(glucose_match.group(4))\n",
        "        })"
      ],
      "metadata": {
        "id": "0KKW6wLYSxs3"
      },
      "execution_count": 75,
      "outputs": []
    }
  ]
}